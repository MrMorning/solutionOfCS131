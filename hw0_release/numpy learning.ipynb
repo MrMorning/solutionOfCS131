{
 "cells": [
  {
   "cell_type": "code",
   "execution_count": 2,
   "metadata": {},
   "outputs": [],
   "source": [
    "import numpy as np"
   ]
  },
  {
   "cell_type": "code",
   "execution_count": 2,
   "metadata": {},
   "outputs": [],
   "source": [
    "a = np.zeros(3)"
   ]
  },
  {
   "cell_type": "code",
   "execution_count": 3,
   "metadata": {},
   "outputs": [
    {
     "data": {
      "text/plain": [
       "array([0., 0., 0.])"
      ]
     },
     "execution_count": 3,
     "metadata": {},
     "output_type": "execute_result"
    }
   ],
   "source": [
    "a"
   ]
  },
  {
   "cell_type": "code",
   "execution_count": 4,
   "metadata": {},
   "outputs": [
    {
     "data": {
      "text/plain": [
       "numpy.ndarray"
      ]
     },
     "execution_count": 4,
     "metadata": {},
     "output_type": "execute_result"
    }
   ],
   "source": [
    "type(a)"
   ]
  },
  {
   "cell_type": "code",
   "execution_count": 29,
   "metadata": {},
   "outputs": [
    {
     "name": "stdout",
     "output_type": "stream",
     "text": [
      "(3, 5, 4)\n",
      "[[0. 6. 8. 5.]\n",
      " [0. 8. 4. 8.]\n",
      " [8. 8. 7. 1.]]\n"
     ]
    }
   ],
   "source": [
    "a = np.ones((4,5,3))\n",
    "print(a.T.shape)\n",
    "a = np.floor(10*np.random.random((3,4)))\n",
    "print(a)"
   ]
  },
  {
   "cell_type": "code",
   "execution_count": 43,
   "metadata": {},
   "outputs": [
    {
     "data": {
      "text/plain": [
       "-8.494842620824162e-17"
      ]
     },
     "execution_count": 43,
     "metadata": {},
     "output_type": "execute_result"
    }
   ],
   "source": [
    "def mat(n):\n",
    "    ret = np.arange(2, n+2, 1)\n",
    "    for i in range(1, n):\n",
    "        tmp = np.arange(2, n+2, 1)\n",
    "        tmp += i\n",
    "        ret = np.vstack((ret, tmp))\n",
    "    return np.sin(ret)\n",
    "np.linalg.det(mat(3))"
   ]
  },
  {
   "cell_type": "code",
   "execution_count": 10,
   "metadata": {},
   "outputs": [
    {
     "name": "stdout",
     "output_type": "stream",
     "text": [
      "[[[0.22163    0.56397798 0.51889627]\n",
      "  [0.35344946 0.91259537 0.7831207 ]\n",
      "  [0.34226994 0.99375776 0.98266259]\n",
      "  [0.91472113 0.6946419  0.90019873]]\n",
      "\n",
      " [[0.50804138 0.83322357 0.24753943]\n",
      "  [0.68040563 0.20922316 0.96180657]\n",
      "  [0.79343135 0.23875182 0.95990027]\n",
      "  [0.53087301 0.43498326 0.69569669]]\n",
      "\n",
      " [[0.64519865 0.8984017  0.60234422]\n",
      "  [0.33165848 0.36131434 0.08728744]\n",
      "  [0.74633227 0.51646522 0.44240583]\n",
      "  [0.97824882 0.58178182 0.28241009]]\n",
      "\n",
      " [[0.30795047 0.27525321 0.21248003]\n",
      "  [0.79703423 0.33782183 0.88318138]\n",
      "  [0.2580018  0.56652543 0.48698822]\n",
      "  [0.90060013 0.27556447 0.60549407]]]\n",
      "[[[0.         0.56397798 0.51889627]\n",
      "  [0.         0.91259537 0.7831207 ]\n",
      "  [0.         0.99375776 0.98266259]\n",
      "  [0.         0.6946419  0.90019873]]\n",
      "\n",
      " [[0.         0.83322357 0.24753943]\n",
      "  [0.         0.20922316 0.96180657]\n",
      "  [0.         0.23875182 0.95990027]\n",
      "  [0.         0.43498326 0.69569669]]\n",
      "\n",
      " [[0.         0.8984017  0.60234422]\n",
      "  [0.         0.36131434 0.08728744]\n",
      "  [0.         0.51646522 0.44240583]\n",
      "  [0.         0.58178182 0.28241009]]\n",
      "\n",
      " [[0.         0.27525321 0.21248003]\n",
      "  [0.         0.33782183 0.88318138]\n",
      "  [0.         0.56652543 0.48698822]\n",
      "  [0.         0.27556447 0.60549407]]]\n"
     ]
    }
   ],
   "source": [
    "b = np.random.random((4, 4, 3))\n",
    "print(b)\n",
    "#print(b * [0, 1, 1])\n",
    "c = b.T\n",
    "c[0] *= 0\n",
    "print(c.T)"
   ]
  },
  {
   "cell_type": "code",
   "execution_count": null,
   "metadata": {},
   "outputs": [],
   "source": []
  }
 ],
 "metadata": {
  "kernelspec": {
   "display_name": "Python 3",
   "language": "python",
   "name": "python3"
  },
  "language_info": {
   "codemirror_mode": {
    "name": "ipython",
    "version": 3
   },
   "file_extension": ".py",
   "mimetype": "text/x-python",
   "name": "python",
   "nbconvert_exporter": "python",
   "pygments_lexer": "ipython3",
   "version": "3.7.3"
  }
 },
 "nbformat": 4,
 "nbformat_minor": 2
}
