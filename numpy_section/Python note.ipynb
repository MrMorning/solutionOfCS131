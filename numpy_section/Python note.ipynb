{
 "cells": [
  {
   "cell_type": "markdown",
   "metadata": {},
   "source": [
    "# Notes of original Python"
   ]
  },
  {
   "cell_type": "markdown",
   "metadata": {},
   "source": [
    "## tuple"
   ]
  },
  {
   "cell_type": "code",
   "execution_count": 12,
   "metadata": {},
   "outputs": [
    {
     "name": "stdout",
     "output_type": "stream",
     "text": [
      "('foo', 'bar', 1, 2)\n",
      "('a', 'b', 'a', 'b', 'a', 'b')\n"
     ]
    }
   ],
   "source": [
    "print(('foo', 'bar') + (1, 2))\n",
    "print((('a', 'b') * 3))"
   ]
  },
  {
   "cell_type": "code",
   "execution_count": 18,
   "metadata": {},
   "outputs": [
    {
     "name": "stdout",
     "output_type": "stream",
     "text": [
      "1\n",
      "2\n",
      "[3, 4, 5]\n",
      "<class 'list'>\n",
      "4\n",
      "5\n",
      "[1, 2, 3]\n"
     ]
    }
   ],
   "source": [
    "values = 1, 2, 3, 4, 5\n",
    "a, b, *rest = values\n",
    "print(a)\n",
    "print(b)\n",
    "print(rest)\n",
    "print(type(rest))\n",
    "*rest, a, b = values\n",
    "print(a)\n",
    "print(b)\n",
    "print(rest)\n",
    "# Starred expression can only occur once in one assignment\n",
    "a, b, *_ = values"
   ]
  },
  {
   "cell_type": "code",
   "execution_count": 21,
   "metadata": {},
   "outputs": [
    {
     "name": "stdout",
     "output_type": "stream",
     "text": [
      "4\n",
      "1\n"
     ]
    }
   ],
   "source": [
    "a = (1, 2, 3, 3, 3, 4, 3)\n",
    "print(a.count(3))\n",
    "print(a.count(2))\n",
    "# count the occurance of a object"
   ]
  },
  {
   "cell_type": "markdown",
   "metadata": {},
   "source": [
    "## List"
   ]
  },
  {
   "cell_type": "code",
   "execution_count": 28,
   "metadata": {},
   "outputs": [
    {
     "data": {
      "text/plain": [
       "[1, 3, 2]"
      ]
     },
     "execution_count": 28,
     "metadata": {},
     "output_type": "execute_result"
    }
   ],
   "source": [
    "b = []\n",
    "b.append(1)\n",
    "b.append(2)\n",
    "b.insert(1, 3)\n",
    "b"
   ]
  },
  {
   "cell_type": "code",
   "execution_count": 29,
   "metadata": {},
   "outputs": [
    {
     "data": {
      "text/plain": [
       "[1, 2, 3]"
      ]
     },
     "execution_count": 29,
     "metadata": {},
     "output_type": "execute_result"
    }
   ],
   "source": [
    "sorted(b)"
   ]
  },
  {
   "cell_type": "code",
   "execution_count": 30,
   "metadata": {},
   "outputs": [
    {
     "data": {
      "text/plain": [
       "[1, 2, 3]"
      ]
     },
     "execution_count": 30,
     "metadata": {},
     "output_type": "execute_result"
    }
   ],
   "source": [
    "b.sort()\n",
    "b"
   ]
  },
  {
   "cell_type": "code",
   "execution_count": 38,
   "metadata": {},
   "outputs": [
    {
     "data": {
      "text/plain": [
       "4"
      ]
     },
     "execution_count": 38,
     "metadata": {},
     "output_type": "execute_result"
    }
   ],
   "source": [
    "import bisect\n",
    "c = [1, 2, 2, 2, 3, 4, 7]\n",
    "bisect.bisect(c, 2)\n",
    "#bisect.bisect finds the location where an element \n",
    "#should be inserted to keep it sorted"
   ]
  },
  {
   "cell_type": "code",
   "execution_count": 39,
   "metadata": {},
   "outputs": [
    {
     "data": {
      "text/plain": [
       "[1, 2, 2, 2, 3, 4, 5, 7]"
      ]
     },
     "execution_count": 39,
     "metadata": {},
     "output_type": "execute_result"
    }
   ],
   "source": [
    "bisect.insort(c, 5)\n",
    "c"
   ]
  },
  {
   "cell_type": "code",
   "execution_count": 44,
   "metadata": {},
   "outputs": [
    {
     "name": "stdout",
     "output_type": "stream",
     "text": [
      "0 1\n",
      "1 123\n",
      "2 321\n",
      "3 321\n",
      "4 321\n",
      "5 456\n",
      "6 897\n",
      "7 2\n",
      "8 456\n",
      "9 897\n",
      "10 2\n",
      "11 3\n",
      "12 4\n",
      "13 5\n",
      "14 7\n"
     ]
    }
   ],
   "source": [
    "for i, val in enumerate(c):\n",
    "    print(i, val)"
   ]
  },
  {
   "cell_type": "code",
   "execution_count": 45,
   "metadata": {},
   "outputs": [
    {
     "name": "stdout",
     "output_type": "stream",
     "text": [
      "0 1 a\n",
      "1 2 b\n",
      "2 3 c\n"
     ]
    }
   ],
   "source": [
    "a = [1, 2, 3]\n",
    "b = ['a', 'b', 'c']\n",
    "for i, (x, y) in enumerate(zip(a, b)):\n",
    "    print(i, x, y)"
   ]
  },
  {
   "cell_type": "code",
   "execution_count": 46,
   "metadata": {},
   "outputs": [
    {
     "name": "stdout",
     "output_type": "stream",
     "text": [
      "[9, 8, 7, 6, 5, 4, 3, 2, 1, 0]\n",
      "[9, 8, 7, 6, 5, 4, 3, 2, 1, 0]\n"
     ]
    }
   ],
   "source": [
    "print(list(reversed(range(10))))\n",
    "print(list(range(10))[::-1])"
   ]
  },
  {
   "cell_type": "markdown",
   "metadata": {},
   "source": [
    "## dict"
   ]
  },
  {
   "cell_type": "code",
   "execution_count": 56,
   "metadata": {},
   "outputs": [],
   "source": [
    " d1 = {'a' : 'some value', 'b' : [1, 2, 3, 4]}"
   ]
  },
  {
   "cell_type": "code",
   "execution_count": 57,
   "metadata": {},
   "outputs": [
    {
     "data": {
      "text/plain": [
       "{'a': 'some value', 'b': [1, 2, 3, 4], 5: 'foo'}"
      ]
     },
     "execution_count": 57,
     "metadata": {},
     "output_type": "execute_result"
    }
   ],
   "source": [
    "d1[5] = \"foo\"\n",
    "d1"
   ]
  },
  {
   "cell_type": "code",
   "execution_count": 58,
   "metadata": {},
   "outputs": [],
   "source": [
    "del d1[5]"
   ]
  },
  {
   "cell_type": "code",
   "execution_count": 59,
   "metadata": {},
   "outputs": [
    {
     "data": {
      "text/plain": [
       "{'a': 'some value', 'b': [1, 2, 3, 4]}"
      ]
     },
     "execution_count": 59,
     "metadata": {},
     "output_type": "execute_result"
    }
   ],
   "source": [
    "d1"
   ]
  },
  {
   "cell_type": "code",
   "execution_count": 60,
   "metadata": {},
   "outputs": [],
   "source": [
    "s = d1.pop('a')"
   ]
  },
  {
   "cell_type": "code",
   "execution_count": 61,
   "metadata": {},
   "outputs": [
    {
     "data": {
      "text/plain": [
       "'some value'"
      ]
     },
     "execution_count": 61,
     "metadata": {},
     "output_type": "execute_result"
    }
   ],
   "source": [
    "s"
   ]
  },
  {
   "cell_type": "code",
   "execution_count": 62,
   "metadata": {},
   "outputs": [
    {
     "data": {
      "text/plain": [
       "{'b': [1, 2, 3, 4]}"
      ]
     },
     "execution_count": 62,
     "metadata": {},
     "output_type": "execute_result"
    }
   ],
   "source": [
    "d1"
   ]
  },
  {
   "cell_type": "code",
   "execution_count": 63,
   "metadata": {},
   "outputs": [],
   "source": [
    "d1['a'] = s"
   ]
  },
  {
   "cell_type": "code",
   "execution_count": 64,
   "metadata": {},
   "outputs": [
    {
     "data": {
      "text/plain": [
       "{'b': [1, 2, 3, 4], 'a': 'some value'}"
      ]
     },
     "execution_count": 64,
     "metadata": {},
     "output_type": "execute_result"
    }
   ],
   "source": [
    "d1"
   ]
  },
  {
   "cell_type": "code",
   "execution_count": 65,
   "metadata": {},
   "outputs": [
    {
     "data": {
      "text/plain": [
       "['b', 'a', 'sdf']"
      ]
     },
     "execution_count": 65,
     "metadata": {},
     "output_type": "execute_result"
    }
   ],
   "source": [
    "d1['sdf'] = 'asdf'\n",
    "list(d1.keys())"
   ]
  },
  {
   "cell_type": "code",
   "execution_count": 66,
   "metadata": {},
   "outputs": [
    {
     "data": {
      "text/plain": [
       "[[1, 2, 3, 4], 'some value', 'asdf']"
      ]
     },
     "execution_count": 66,
     "metadata": {},
     "output_type": "execute_result"
    }
   ],
   "source": [
    "list(d1.values())"
   ]
  },
  {
   "cell_type": "code",
   "execution_count": 67,
   "metadata": {},
   "outputs": [],
   "source": [
    "d1.update({'b':'foo'})"
   ]
  },
  {
   "cell_type": "code",
   "execution_count": 68,
   "metadata": {},
   "outputs": [
    {
     "data": {
      "text/plain": [
       "{'b': 'foo', 'a': 'some value', 'sdf': 'asdf'}"
      ]
     },
     "execution_count": 68,
     "metadata": {},
     "output_type": "execute_result"
    }
   ],
   "source": [
    "d1"
   ]
  },
  {
   "cell_type": "code",
   "execution_count": 69,
   "metadata": {},
   "outputs": [],
   "source": [
    "mapping = dict(zip(range(5), reversed(range(5))))"
   ]
  },
  {
   "cell_type": "code",
   "execution_count": 70,
   "metadata": {},
   "outputs": [
    {
     "data": {
      "text/plain": [
       "{0: 4, 1: 3, 2: 2, 3: 1, 4: 0}"
      ]
     },
     "execution_count": 70,
     "metadata": {},
     "output_type": "execute_result"
    }
   ],
   "source": [
    "mapping"
   ]
  },
  {
   "cell_type": "code",
   "execution_count": 74,
   "metadata": {},
   "outputs": [
    {
     "data": {
      "text/plain": [
       "1"
      ]
     },
     "execution_count": 74,
     "metadata": {},
     "output_type": "execute_result"
    }
   ],
   "source": [
    "val = mapping.pop(3, -1)\n",
    "val"
   ]
  },
  {
   "cell_type": "code",
   "execution_count": 75,
   "metadata": {},
   "outputs": [
    {
     "data": {
      "text/plain": [
       "-1"
      ]
     },
     "execution_count": 75,
     "metadata": {},
     "output_type": "execute_result"
    }
   ],
   "source": [
    "val = mapping.pop(3, -1)\n",
    "val"
   ]
  },
  {
   "cell_type": "code",
   "execution_count": 73,
   "metadata": {},
   "outputs": [
    {
     "data": {
      "text/plain": [
       "-1"
      ]
     },
     "execution_count": 73,
     "metadata": {},
     "output_type": "execute_result"
    }
   ],
   "source": [
    "val2 = mapping.get(123, -1)\n",
    "val2"
   ]
  },
  {
   "cell_type": "code",
   "execution_count": 76,
   "metadata": {},
   "outputs": [
    {
     "data": {
      "text/plain": [
       "{'a': ['apple', 'atom'], 'b': ['bat', 'bar', 'book']}"
      ]
     },
     "execution_count": 76,
     "metadata": {},
     "output_type": "execute_result"
    }
   ],
   "source": [
    "words = ['apple', 'bat', 'bar', 'atom', 'book']\n",
    "by_letter = {}\n",
    "for word in words:\n",
    "    letter = word[0]\n",
    "    by_letter.setdefault(letter, []).append(word)\n",
    "by_letter"
   ]
  },
  {
   "cell_type": "code",
   "execution_count": 91,
   "metadata": {},
   "outputs": [
    {
     "data": {
      "text/plain": [
       "{0: 50, 1: 72, 2: 144, 3: 99, 4: 68, 5: 95, 6: 66, 8: 262, 9: 89}"
      ]
     },
     "execution_count": 91,
     "metadata": {},
     "output_type": "execute_result"
    }
   ],
   "source": [
    "import numpy as np\n",
    "a = list(np.array(100 * np.random.random((20)), dtype = int))\n",
    "d = {}\n",
    "for num in a:\n",
    "    d.setdefault(num%10, 0)\n",
    "    d[num%10] += num\n",
    "d2 = {}\n",
    "for val in sorted(d.keys()):\n",
    "    d2[val] = d[val]\n",
    "d2"
   ]
  },
  {
   "cell_type": "code",
   "execution_count": 92,
   "metadata": {},
   "outputs": [
    {
     "data": {
      "text/plain": [
       "defaultdict(list, {'a': ['apple', 'atom'], 'b': ['bat', 'bar', 'book']})"
      ]
     },
     "execution_count": 92,
     "metadata": {},
     "output_type": "execute_result"
    }
   ],
   "source": [
    "from collections import defaultdict\n",
    "by_letter = defaultdict(list)\n",
    "for word in words:\n",
    "    letter = word[0]\n",
    "    by_letter.setdefault(letter, []).append(word)\n",
    "by_letter"
   ]
  },
  {
   "cell_type": "code",
   "execution_count": 101,
   "metadata": {},
   "outputs": [
    {
     "data": {
      "text/plain": [
       "{0, 1, 2, 3, 5, 7, 9}"
      ]
     },
     "execution_count": 101,
     "metadata": {},
     "output_type": "execute_result"
    }
   ],
   "source": [
    "def prime(x):\n",
    "    if(x == 1):\n",
    "        return False\n",
    "    for i in range(2, x):\n",
    "        if(x % i == 0):\n",
    "            return False\n",
    "    return True\n",
    "d = {x : x % 10 for x in range(100) if prime(x) and x}\n",
    "d\n",
    "s = {x % 10 for x in range(100) if prime(x)}\n",
    "s"
   ]
  },
  {
   "cell_type": "code",
   "execution_count": 102,
   "metadata": {},
   "outputs": [],
   "source": [
    "states = ['   Alabama ', 'Georgia!', 'Georgia', 'georgia', 'FlOrIda','south   carolina##', 'West virginia?']"
   ]
  },
  {
   "cell_type": "code",
   "execution_count": 105,
   "metadata": {},
   "outputs": [
    {
     "data": {
      "text/plain": [
       "['Alabama',\n",
       " 'Georgia',\n",
       " 'Georgia',\n",
       " 'Georgia',\n",
       " 'Florida',\n",
       " 'South   Carolina',\n",
       " 'West Virginia']"
      ]
     },
     "execution_count": 105,
     "metadata": {},
     "output_type": "execute_result"
    }
   ],
   "source": [
    "import re\n",
    "def clean_string(strings, *ops):\n",
    "    result = []\n",
    "    for value in strings:\n",
    "        for func in ops:\n",
    "            value = func(value)\n",
    "        result.append(value)\n",
    "    return result\n",
    "clean_string(states, str.strip, lambda x:re.sub('[!#?]', '', x), str.title)"
   ]
  },
  {
   "cell_type": "code",
   "execution_count": 113,
   "metadata": {},
   "outputs": [
    {
     "name": "stdout",
     "output_type": "stream",
     "text": [
      "2:92 \n",
      "6:86 \n",
      "5:85 \n",
      "9:79 79 \n",
      "8:78 \n",
      "0:70 \n",
      "8:68 \n",
      "6:66 \n",
      "0:60 \n",
      "8:58 \n",
      "2:52 \n",
      "9:49 \n",
      "4:44 \n",
      "6:36 36 \n",
      "9:9 9 \n",
      "6:6 \n",
      "4:4 \n",
      "92 86 85 \n",
      "92 86 79 \n",
      "92 86 79 \n",
      "92 86 78 \n",
      "92 86 70 \n",
      "92 86 68 \n",
      "92 86 66 \n",
      "92 86 60 \n",
      "92 86 58 \n",
      "92 86 52 \n",
      "92 86 49 \n",
      "92 86 44 \n",
      "92 86 36 \n",
      "92 86 36 \n",
      "92 86 9 \n",
      "92 86 9 \n",
      "92 86 6 \n",
      "92 86 4 \n",
      "92 85 79 \n",
      "92 85 79 \n",
      "92 85 78 \n",
      "92 85 70 \n",
      "92 85 68 \n",
      "92 85 66 \n",
      "92 85 60 \n",
      "92 85 58 \n",
      "92 85 52 \n",
      "92 85 49 \n",
      "92 85 44 \n",
      "92 85 36 \n",
      "92 85 36 \n",
      "92 85 9 \n",
      "92 85 9 \n",
      "92 85 6 \n",
      "92 85 4 \n",
      "92 79 79 \n",
      "92 79 78 \n",
      "92 79 70 \n",
      "92 79 68 \n",
      "92 79 66 \n",
      "92 79 60 \n",
      "92 79 58 \n",
      "92 79 52 \n",
      "92 79 49 \n",
      "92 79 44 \n",
      "92 79 36 \n",
      "92 79 36 \n",
      "92 79 9 \n",
      "92 79 9 \n",
      "92 79 6 \n",
      "92 79 4 \n",
      "92 79 78 \n",
      "92 79 70 \n",
      "92 79 68 \n",
      "92 79 66 \n",
      "92 79 60 \n",
      "92 79 58 \n",
      "92 79 52 \n",
      "92 79 49 \n",
      "92 79 44 \n",
      "92 79 36 \n",
      "92 79 36 \n",
      "92 79 9 \n",
      "92 79 9 \n",
      "92 79 6 \n",
      "92 79 4 \n",
      "92 78 70 \n",
      "92 78 68 \n",
      "92 78 66 \n",
      "92 78 60 \n",
      "92 78 58 \n",
      "92 78 52 \n",
      "92 78 49 \n",
      "92 78 44 \n",
      "92 78 36 \n",
      "92 78 36 \n",
      "92 78 9 \n",
      "92 78 9 \n",
      "92 78 6 \n",
      "92 78 4 \n",
      "92 70 68 \n",
      "92 70 66 \n",
      "92 70 60 \n",
      "92 70 58 \n",
      "92 70 52 \n",
      "92 70 49 \n",
      "92 70 44 \n",
      "92 70 36 \n",
      "92 70 36 \n",
      "92 70 9 \n",
      "92 70 9 \n",
      "92 70 6 \n",
      "92 70 4 \n",
      "92 68 66 \n",
      "92 68 60 \n",
      "92 68 58 \n",
      "92 68 52 \n",
      "92 68 49 \n",
      "92 68 44 \n",
      "92 68 36 \n",
      "92 68 36 \n",
      "92 68 9 \n",
      "92 68 9 \n",
      "92 68 6 \n",
      "92 68 4 \n",
      "92 66 60 \n",
      "92 66 58 \n",
      "92 66 52 \n",
      "92 66 49 \n",
      "92 66 44 \n",
      "92 66 36 \n",
      "92 66 36 \n",
      "92 66 9 \n",
      "92 66 9 \n",
      "92 66 6 \n",
      "92 66 4 \n",
      "92 60 58 \n",
      "92 60 52 \n",
      "92 60 49 \n",
      "92 60 44 \n",
      "92 60 36 \n",
      "92 60 36 \n",
      "92 60 9 \n",
      "92 60 9 \n",
      "92 60 6 \n",
      "92 60 4 \n",
      "92 58 52 \n",
      "92 58 49 \n",
      "92 58 44 \n",
      "92 58 36 \n",
      "92 58 36 \n",
      "92 58 9 \n",
      "92 58 9 \n",
      "92 58 6 \n",
      "92 58 4 \n",
      "92 52 49 \n",
      "92 52 44 \n",
      "92 52 36 \n",
      "92 52 36 \n",
      "92 52 9 \n",
      "92 52 9 \n",
      "92 52 6 \n",
      "92 52 4 \n",
      "92 49 44 \n",
      "92 49 36 \n",
      "92 49 36 \n",
      "92 49 9 \n",
      "92 49 9 \n",
      "92 49 6 \n",
      "92 49 4 \n",
      "92 44 36 \n",
      "92 44 36 \n",
      "92 44 9 \n",
      "92 44 9 \n",
      "92 44 6 \n",
      "92 44 4 \n",
      "92 36 36 \n",
      "92 36 9 \n",
      "92 36 9 \n",
      "92 36 6 \n",
      "92 36 4 \n",
      "92 36 9 \n",
      "92 36 9 \n",
      "92 36 6 \n",
      "92 36 4 \n",
      "92 9 9 \n",
      "92 9 6 \n",
      "92 9 4 \n",
      "92 9 6 \n",
      "92 9 4 \n",
      "92 6 4 \n",
      "86 85 79 \n",
      "86 85 79 \n",
      "86 85 78 \n",
      "86 85 70 \n",
      "86 85 68 \n",
      "86 85 66 \n",
      "86 85 60 \n",
      "86 85 58 \n",
      "86 85 52 \n",
      "86 85 49 \n",
      "86 85 44 \n",
      "86 85 36 \n",
      "86 85 36 \n",
      "86 85 9 \n",
      "86 85 9 \n",
      "86 85 6 \n",
      "86 85 4 \n",
      "86 79 79 \n",
      "86 79 78 \n",
      "86 79 70 \n",
      "86 79 68 \n",
      "86 79 66 \n",
      "86 79 60 \n",
      "86 79 58 \n",
      "86 79 52 \n",
      "86 79 49 \n",
      "86 79 44 \n",
      "86 79 36 \n",
      "86 79 36 \n",
      "86 79 9 \n",
      "86 79 9 \n",
      "86 79 6 \n",
      "86 79 4 \n",
      "86 79 78 \n",
      "86 79 70 \n",
      "86 79 68 \n",
      "86 79 66 \n",
      "86 79 60 \n",
      "86 79 58 \n",
      "86 79 52 \n",
      "86 79 49 \n",
      "86 79 44 \n",
      "86 79 36 \n",
      "86 79 36 \n",
      "86 79 9 \n",
      "86 79 9 \n",
      "86 79 6 \n",
      "86 79 4 \n",
      "86 78 70 \n",
      "86 78 68 \n",
      "86 78 66 \n",
      "86 78 60 \n",
      "86 78 58 \n",
      "86 78 52 \n",
      "86 78 49 \n",
      "86 78 44 \n",
      "86 78 36 \n",
      "86 78 36 \n",
      "86 78 9 \n",
      "86 78 9 \n",
      "86 78 6 \n",
      "86 78 4 \n",
      "86 70 68 \n",
      "86 70 66 \n",
      "86 70 60 \n",
      "86 70 58 \n",
      "86 70 52 \n",
      "86 70 49 \n",
      "86 70 44 \n",
      "86 70 36 \n",
      "86 70 36 \n",
      "86 70 9 \n",
      "86 70 9 \n",
      "86 70 6 \n",
      "86 70 4 \n",
      "86 68 66 \n",
      "86 68 60 \n",
      "86 68 58 \n",
      "86 68 52 \n",
      "86 68 49 \n",
      "86 68 44 \n",
      "86 68 36 \n",
      "86 68 36 \n",
      "86 68 9 \n",
      "86 68 9 \n",
      "86 68 6 \n",
      "86 68 4 \n",
      "86 66 60 \n",
      "86 66 58 \n",
      "86 66 52 \n",
      "86 66 49 \n",
      "86 66 44 \n",
      "86 66 36 \n",
      "86 66 36 \n",
      "86 66 9 \n",
      "86 66 9 \n",
      "86 66 6 \n",
      "86 66 4 \n",
      "86 60 58 \n",
      "86 60 52 \n",
      "86 60 49 \n",
      "86 60 44 \n",
      "86 60 36 \n",
      "86 60 36 \n",
      "86 60 9 \n",
      "86 60 9 \n",
      "86 60 6 \n",
      "86 60 4 \n",
      "86 58 52 \n",
      "86 58 49 \n",
      "86 58 44 \n",
      "86 58 36 \n",
      "86 58 36 \n",
      "86 58 9 \n",
      "86 58 9 \n",
      "86 58 6 \n",
      "86 58 4 \n",
      "86 52 49 \n",
      "86 52 44 \n",
      "86 52 36 \n",
      "86 52 36 \n",
      "86 52 9 \n",
      "86 52 9 \n",
      "86 52 6 \n",
      "86 52 4 \n",
      "86 49 44 \n",
      "86 49 36 \n",
      "86 49 36 \n",
      "86 49 9 \n",
      "86 49 9 \n",
      "86 49 6 \n",
      "86 49 4 \n",
      "86 44 36 \n",
      "86 44 36 \n",
      "86 44 9 \n",
      "86 44 9 \n",
      "86 44 6 \n",
      "86 44 4 \n",
      "86 36 36 \n",
      "86 36 9 \n",
      "86 36 9 \n",
      "86 36 6 \n",
      "86 36 4 \n",
      "86 36 9 \n",
      "86 36 9 \n",
      "86 36 6 \n",
      "86 36 4 \n",
      "86 9 9 \n",
      "86 9 6 \n",
      "86 9 4 \n",
      "86 9 6 \n",
      "86 9 4 \n",
      "86 6 4 \n",
      "85 79 79 \n",
      "85 79 78 \n",
      "85 79 70 \n",
      "85 79 68 \n",
      "85 79 66 \n",
      "85 79 60 \n",
      "85 79 58 \n",
      "85 79 52 \n",
      "85 79 49 \n",
      "85 79 44 \n",
      "85 79 36 \n",
      "85 79 36 \n",
      "85 79 9 \n",
      "85 79 9 \n",
      "85 79 6 \n",
      "85 79 4 \n",
      "85 79 78 \n",
      "85 79 70 \n",
      "85 79 68 \n",
      "85 79 66 \n",
      "85 79 60 \n",
      "85 79 58 \n",
      "85 79 52 \n",
      "85 79 49 \n",
      "85 79 44 \n",
      "85 79 36 \n",
      "85 79 36 \n",
      "85 79 9 \n",
      "85 79 9 \n",
      "85 79 6 \n",
      "85 79 4 \n",
      "85 78 70 \n",
      "85 78 68 \n",
      "85 78 66 \n",
      "85 78 60 \n",
      "85 78 58 \n",
      "85 78 52 \n",
      "85 78 49 \n",
      "85 78 44 \n",
      "85 78 36 \n",
      "85 78 36 \n",
      "85 78 9 \n",
      "85 78 9 \n",
      "85 78 6 \n",
      "85 78 4 \n",
      "85 70 68 \n",
      "85 70 66 \n",
      "85 70 60 \n",
      "85 70 58 \n",
      "85 70 52 \n",
      "85 70 49 \n",
      "85 70 44 \n",
      "85 70 36 \n",
      "85 70 36 \n",
      "85 70 9 \n",
      "85 70 9 \n",
      "85 70 6 \n",
      "85 70 4 \n",
      "85 68 66 \n",
      "85 68 60 \n",
      "85 68 58 \n",
      "85 68 52 \n",
      "85 68 49 \n",
      "85 68 44 \n",
      "85 68 36 \n",
      "85 68 36 \n",
      "85 68 9 \n",
      "85 68 9 \n",
      "85 68 6 \n",
      "85 68 4 \n",
      "85 66 60 \n",
      "85 66 58 \n",
      "85 66 52 \n",
      "85 66 49 \n",
      "85 66 44 \n",
      "85 66 36 \n",
      "85 66 36 \n",
      "85 66 9 \n",
      "85 66 9 \n",
      "85 66 6 \n",
      "85 66 4 \n",
      "85 60 58 \n",
      "85 60 52 \n",
      "85 60 49 \n",
      "85 60 44 \n",
      "85 60 36 \n",
      "85 60 36 \n",
      "85 60 9 \n",
      "85 60 9 \n",
      "85 60 6 \n",
      "85 60 4 \n",
      "85 58 52 \n",
      "85 58 49 \n",
      "85 58 44 \n",
      "85 58 36 \n",
      "85 58 36 \n",
      "85 58 9 \n",
      "85 58 9 \n",
      "85 58 6 \n",
      "85 58 4 \n",
      "85 52 49 \n",
      "85 52 44 \n",
      "85 52 36 \n",
      "85 52 36 \n",
      "85 52 9 \n",
      "85 52 9 \n",
      "85 52 6 \n",
      "85 52 4 \n",
      "85 49 44 \n",
      "85 49 36 \n",
      "85 49 36 \n",
      "85 49 9 \n",
      "85 49 9 \n",
      "85 49 6 \n",
      "85 49 4 \n",
      "85 44 36 \n",
      "85 44 36 \n",
      "85 44 9 \n",
      "85 44 9 \n",
      "85 44 6 \n",
      "85 44 4 \n",
      "85 36 36 \n",
      "85 36 9 \n",
      "85 36 9 \n",
      "85 36 6 \n",
      "85 36 4 \n",
      "85 36 9 \n",
      "85 36 9 \n",
      "85 36 6 \n",
      "85 36 4 \n",
      "85 9 9 \n",
      "85 9 6 \n",
      "85 9 4 \n",
      "85 9 6 \n",
      "85 9 4 \n",
      "85 6 4 \n",
      "79 79 78 \n",
      "79 79 70 \n",
      "79 79 68 \n",
      "79 79 66 \n",
      "79 79 60 \n",
      "79 79 58 \n",
      "79 79 52 \n",
      "79 79 49 \n",
      "79 79 44 \n",
      "79 79 36 \n",
      "79 79 36 \n",
      "79 79 9 \n",
      "79 79 9 \n",
      "79 79 6 \n",
      "79 79 4 \n",
      "79 78 70 \n",
      "79 78 68 \n",
      "79 78 66 \n",
      "79 78 60 \n",
      "79 78 58 \n",
      "79 78 52 \n",
      "79 78 49 \n",
      "79 78 44 \n",
      "79 78 36 \n",
      "79 78 36 \n",
      "79 78 9 \n",
      "79 78 9 \n",
      "79 78 6 \n",
      "79 78 4 \n",
      "79 70 68 \n",
      "79 70 66 \n",
      "79 70 60 \n",
      "79 70 58 \n",
      "79 70 52 \n",
      "79 70 49 \n",
      "79 70 44 \n",
      "79 70 36 \n",
      "79 70 36 \n",
      "79 70 9 \n",
      "79 70 9 \n",
      "79 70 6 \n",
      "79 70 4 \n",
      "79 68 66 \n",
      "79 68 60 \n",
      "79 68 58 \n",
      "79 68 52 \n",
      "79 68 49 \n",
      "79 68 44 \n",
      "79 68 36 \n",
      "79 68 36 \n",
      "79 68 9 \n",
      "79 68 9 \n",
      "79 68 6 \n",
      "79 68 4 \n",
      "79 66 60 \n",
      "79 66 58 \n",
      "79 66 52 \n",
      "79 66 49 \n",
      "79 66 44 \n",
      "79 66 36 \n",
      "79 66 36 \n",
      "79 66 9 \n",
      "79 66 9 \n",
      "79 66 6 \n",
      "79 66 4 \n",
      "79 60 58 \n",
      "79 60 52 \n",
      "79 60 49 \n",
      "79 60 44 \n",
      "79 60 36 \n",
      "79 60 36 \n",
      "79 60 9 \n",
      "79 60 9 \n",
      "79 60 6 \n",
      "79 60 4 \n",
      "79 58 52 \n",
      "79 58 49 \n",
      "79 58 44 \n",
      "79 58 36 \n",
      "79 58 36 \n",
      "79 58 9 \n",
      "79 58 9 \n",
      "79 58 6 \n",
      "79 58 4 \n",
      "79 52 49 \n",
      "79 52 44 \n",
      "79 52 36 \n",
      "79 52 36 \n",
      "79 52 9 \n",
      "79 52 9 \n",
      "79 52 6 \n",
      "79 52 4 \n",
      "79 49 44 \n",
      "79 49 36 \n",
      "79 49 36 \n",
      "79 49 9 \n",
      "79 49 9 \n",
      "79 49 6 \n",
      "79 49 4 \n",
      "79 44 36 \n",
      "79 44 36 \n",
      "79 44 9 \n",
      "79 44 9 \n",
      "79 44 6 \n",
      "79 44 4 \n",
      "79 36 36 \n",
      "79 36 9 \n",
      "79 36 9 \n",
      "79 36 6 \n",
      "79 36 4 \n",
      "79 36 9 \n",
      "79 36 9 \n",
      "79 36 6 \n",
      "79 36 4 \n",
      "79 9 9 \n",
      "79 9 6 \n",
      "79 9 4 \n",
      "79 9 6 \n",
      "79 9 4 \n",
      "79 6 4 \n",
      "79 78 70 \n",
      "79 78 68 \n",
      "79 78 66 \n",
      "79 78 60 \n",
      "79 78 58 \n",
      "79 78 52 \n",
      "79 78 49 \n",
      "79 78 44 \n",
      "79 78 36 \n",
      "79 78 36 \n",
      "79 78 9 \n",
      "79 78 9 \n",
      "79 78 6 \n",
      "79 78 4 \n",
      "79 70 68 \n",
      "79 70 66 \n",
      "79 70 60 \n",
      "79 70 58 \n",
      "79 70 52 \n",
      "79 70 49 \n",
      "79 70 44 \n",
      "79 70 36 \n",
      "79 70 36 \n",
      "79 70 9 \n",
      "79 70 9 \n",
      "79 70 6 \n",
      "79 70 4 \n",
      "79 68 66 \n",
      "79 68 60 \n",
      "79 68 58 \n",
      "79 68 52 \n",
      "79 68 49 \n",
      "79 68 44 \n",
      "79 68 36 \n",
      "79 68 36 \n",
      "79 68 9 \n",
      "79 68 9 \n",
      "79 68 6 \n",
      "79 68 4 \n",
      "79 66 60 \n",
      "79 66 58 \n",
      "79 66 52 \n",
      "79 66 49 \n",
      "79 66 44 \n",
      "79 66 36 \n",
      "79 66 36 \n",
      "79 66 9 \n",
      "79 66 9 \n",
      "79 66 6 \n",
      "79 66 4 \n",
      "79 60 58 \n",
      "79 60 52 \n",
      "79 60 49 \n",
      "79 60 44 \n",
      "79 60 36 \n",
      "79 60 36 \n",
      "79 60 9 \n",
      "79 60 9 \n",
      "79 60 6 \n",
      "79 60 4 \n",
      "79 58 52 \n",
      "79 58 49 \n",
      "79 58 44 \n",
      "79 58 36 \n",
      "79 58 36 \n",
      "79 58 9 \n",
      "79 58 9 \n",
      "79 58 6 \n",
      "79 58 4 \n",
      "79 52 49 \n",
      "79 52 44 \n",
      "79 52 36 \n",
      "79 52 36 \n",
      "79 52 9 \n",
      "79 52 9 \n",
      "79 52 6 \n",
      "79 52 4 \n",
      "79 49 44 \n",
      "79 49 36 \n",
      "79 49 36 \n",
      "79 49 9 \n",
      "79 49 9 \n",
      "79 49 6 \n",
      "79 49 4 \n",
      "79 44 36 \n",
      "79 44 36 \n",
      "79 44 9 \n",
      "79 44 9 \n",
      "79 44 6 \n",
      "79 44 4 \n",
      "79 36 36 \n",
      "79 36 9 \n",
      "79 36 9 \n",
      "79 36 6 \n",
      "79 36 4 \n",
      "79 36 9 \n",
      "79 36 9 \n",
      "79 36 6 \n",
      "79 36 4 \n",
      "79 9 9 \n",
      "79 9 6 \n",
      "79 9 4 \n",
      "79 9 6 \n",
      "79 9 4 \n",
      "79 6 4 \n",
      "78 70 68 \n",
      "78 70 66 \n",
      "78 70 60 \n",
      "78 70 58 \n",
      "78 70 52 \n",
      "78 70 49 \n",
      "78 70 44 \n",
      "78 70 36 \n",
      "78 70 36 \n",
      "78 70 9 \n",
      "78 70 9 \n",
      "78 70 6 \n",
      "78 70 4 \n",
      "78 68 66 \n",
      "78 68 60 \n",
      "78 68 58 \n",
      "78 68 52 \n",
      "78 68 49 \n",
      "78 68 44 \n",
      "78 68 36 \n",
      "78 68 36 \n",
      "78 68 9 \n",
      "78 68 9 \n",
      "78 68 6 \n",
      "78 68 4 \n",
      "78 66 60 \n",
      "78 66 58 \n",
      "78 66 52 \n",
      "78 66 49 \n",
      "78 66 44 \n",
      "78 66 36 \n",
      "78 66 36 \n",
      "78 66 9 \n",
      "78 66 9 \n",
      "78 66 6 \n",
      "78 66 4 \n",
      "78 60 58 \n",
      "78 60 52 \n",
      "78 60 49 \n",
      "78 60 44 \n",
      "78 60 36 \n",
      "78 60 36 \n",
      "78 60 9 \n",
      "78 60 9 \n",
      "78 60 6 \n",
      "78 60 4 \n",
      "78 58 52 \n",
      "78 58 49 \n",
      "78 58 44 \n",
      "78 58 36 \n",
      "78 58 36 \n",
      "78 58 9 \n",
      "78 58 9 \n",
      "78 58 6 \n",
      "78 58 4 \n",
      "78 52 49 \n",
      "78 52 44 \n",
      "78 52 36 \n",
      "78 52 36 \n",
      "78 52 9 \n",
      "78 52 9 \n",
      "78 52 6 \n",
      "78 52 4 \n",
      "78 49 44 \n",
      "78 49 36 \n",
      "78 49 36 \n",
      "78 49 9 \n",
      "78 49 9 \n",
      "78 49 6 \n",
      "78 49 4 \n",
      "78 44 36 \n",
      "78 44 36 \n",
      "78 44 9 \n",
      "78 44 9 \n",
      "78 44 6 \n",
      "78 44 4 \n",
      "78 36 36 \n",
      "78 36 9 \n",
      "78 36 9 \n",
      "78 36 6 \n",
      "78 36 4 \n",
      "78 36 9 \n",
      "78 36 9 \n",
      "78 36 6 \n",
      "78 36 4 \n",
      "78 9 9 \n",
      "78 9 6 \n",
      "78 9 4 \n",
      "78 9 6 \n",
      "78 9 4 \n",
      "78 6 4 \n",
      "70 68 66 \n",
      "70 68 60 \n",
      "70 68 58 \n",
      "70 68 52 \n",
      "70 68 49 \n",
      "70 68 44 \n",
      "70 68 36 \n",
      "70 68 36 \n",
      "70 68 9 \n",
      "70 68 9 \n",
      "70 68 6 \n",
      "70 68 4 \n",
      "70 66 60 \n",
      "70 66 58 \n",
      "70 66 52 \n",
      "70 66 49 \n",
      "70 66 44 \n",
      "70 66 36 \n",
      "70 66 36 \n",
      "70 66 9 \n",
      "70 66 9 \n",
      "70 66 6 \n",
      "70 66 4 \n",
      "70 60 58 \n",
      "70 60 52 \n",
      "70 60 49 \n",
      "70 60 44 \n",
      "70 60 36 \n",
      "70 60 36 \n",
      "70 60 9 \n",
      "70 60 9 \n",
      "70 60 6 \n",
      "70 60 4 \n",
      "70 58 52 \n",
      "70 58 49 \n",
      "70 58 44 \n",
      "70 58 36 \n",
      "70 58 36 \n",
      "70 58 9 \n",
      "70 58 9 \n",
      "70 58 6 \n",
      "70 58 4 \n",
      "70 52 49 \n",
      "70 52 44 \n",
      "70 52 36 \n",
      "70 52 36 \n",
      "70 52 9 \n",
      "70 52 9 \n",
      "70 52 6 \n",
      "70 52 4 \n",
      "70 49 44 \n",
      "70 49 36 \n",
      "70 49 36 \n",
      "70 49 9 \n",
      "70 49 9 \n",
      "70 49 6 \n",
      "70 49 4 \n",
      "70 44 36 \n",
      "70 44 36 \n",
      "70 44 9 \n",
      "70 44 9 \n",
      "70 44 6 \n",
      "70 44 4 \n",
      "70 36 36 \n",
      "70 36 9 \n",
      "70 36 9 \n",
      "70 36 6 \n",
      "70 36 4 \n",
      "70 36 9 \n",
      "70 36 9 \n",
      "70 36 6 \n",
      "70 36 4 \n",
      "70 9 9 \n",
      "70 9 6 \n",
      "70 9 4 \n",
      "70 9 6 \n",
      "70 9 4 \n",
      "70 6 4 \n",
      "68 66 60 \n",
      "68 66 58 \n",
      "68 66 52 \n",
      "68 66 49 \n",
      "68 66 44 \n",
      "68 66 36 \n",
      "68 66 36 \n",
      "68 66 9 \n",
      "68 66 9 \n",
      "68 66 6 \n",
      "68 66 4 \n",
      "68 60 58 \n",
      "68 60 52 \n",
      "68 60 49 \n",
      "68 60 44 \n",
      "68 60 36 \n",
      "68 60 36 \n",
      "68 60 9 \n",
      "68 60 9 \n",
      "68 60 6 \n",
      "68 60 4 \n",
      "68 58 52 \n",
      "68 58 49 \n",
      "68 58 44 \n",
      "68 58 36 \n",
      "68 58 36 \n",
      "68 58 9 \n",
      "68 58 9 \n",
      "68 58 6 \n",
      "68 58 4 \n",
      "68 52 49 \n",
      "68 52 44 \n",
      "68 52 36 \n",
      "68 52 36 \n",
      "68 52 9 \n",
      "68 52 9 \n",
      "68 52 6 \n",
      "68 52 4 \n",
      "68 49 44 \n",
      "68 49 36 \n",
      "68 49 36 \n",
      "68 49 9 \n",
      "68 49 9 \n",
      "68 49 6 \n",
      "68 49 4 \n",
      "68 44 36 \n",
      "68 44 36 \n",
      "68 44 9 \n",
      "68 44 9 \n",
      "68 44 6 \n",
      "68 44 4 \n",
      "68 36 36 \n",
      "68 36 9 \n",
      "68 36 9 \n",
      "68 36 6 \n",
      "68 36 4 \n",
      "68 36 9 \n",
      "68 36 9 \n",
      "68 36 6 \n",
      "68 36 4 \n",
      "68 9 9 \n",
      "68 9 6 \n",
      "68 9 4 \n",
      "68 9 6 \n",
      "68 9 4 \n",
      "68 6 4 \n",
      "66 60 58 \n",
      "66 60 52 \n",
      "66 60 49 \n",
      "66 60 44 \n",
      "66 60 36 \n",
      "66 60 36 \n",
      "66 60 9 \n",
      "66 60 9 \n",
      "66 60 6 \n",
      "66 60 4 \n",
      "66 58 52 \n",
      "66 58 49 \n",
      "66 58 44 \n",
      "66 58 36 \n",
      "66 58 36 \n",
      "66 58 9 \n",
      "66 58 9 \n",
      "66 58 6 \n",
      "66 58 4 \n",
      "66 52 49 \n",
      "66 52 44 \n",
      "66 52 36 \n",
      "66 52 36 \n",
      "66 52 9 \n",
      "66 52 9 \n",
      "66 52 6 \n",
      "66 52 4 \n",
      "66 49 44 \n",
      "66 49 36 \n",
      "66 49 36 \n",
      "66 49 9 \n",
      "66 49 9 \n",
      "66 49 6 \n",
      "66 49 4 \n",
      "66 44 36 \n",
      "66 44 36 \n",
      "66 44 9 \n",
      "66 44 9 \n",
      "66 44 6 \n",
      "66 44 4 \n",
      "66 36 36 \n",
      "66 36 9 \n",
      "66 36 9 \n",
      "66 36 6 \n",
      "66 36 4 \n",
      "66 36 9 \n",
      "66 36 9 \n",
      "66 36 6 \n",
      "66 36 4 \n",
      "66 9 9 \n",
      "66 9 6 \n",
      "66 9 4 \n",
      "66 9 6 \n",
      "66 9 4 \n",
      "66 6 4 \n",
      "60 58 52 \n",
      "60 58 49 \n",
      "60 58 44 \n",
      "60 58 36 \n",
      "60 58 36 \n",
      "60 58 9 \n",
      "60 58 9 \n",
      "60 58 6 \n",
      "60 58 4 \n",
      "60 52 49 \n",
      "60 52 44 \n",
      "60 52 36 \n",
      "60 52 36 \n",
      "60 52 9 \n",
      "60 52 9 \n",
      "60 52 6 \n",
      "60 52 4 \n",
      "60 49 44 \n",
      "60 49 36 \n",
      "60 49 36 \n",
      "60 49 9 \n",
      "60 49 9 \n",
      "60 49 6 \n",
      "60 49 4 \n",
      "60 44 36 \n",
      "60 44 36 \n",
      "60 44 9 \n",
      "60 44 9 \n",
      "60 44 6 \n",
      "60 44 4 \n",
      "60 36 36 \n",
      "60 36 9 \n",
      "60 36 9 \n",
      "60 36 6 \n",
      "60 36 4 \n",
      "60 36 9 \n",
      "60 36 9 \n",
      "60 36 6 \n",
      "60 36 4 \n",
      "60 9 9 \n",
      "60 9 6 \n",
      "60 9 4 \n",
      "60 9 6 \n",
      "60 9 4 \n",
      "60 6 4 \n",
      "58 52 49 \n",
      "58 52 44 \n",
      "58 52 36 \n",
      "58 52 36 \n",
      "58 52 9 \n",
      "58 52 9 \n",
      "58 52 6 \n",
      "58 52 4 \n",
      "58 49 44 \n",
      "58 49 36 \n",
      "58 49 36 \n",
      "58 49 9 \n",
      "58 49 9 \n",
      "58 49 6 \n",
      "58 49 4 \n",
      "58 44 36 \n",
      "58 44 36 \n",
      "58 44 9 \n",
      "58 44 9 \n",
      "58 44 6 \n",
      "58 44 4 \n",
      "58 36 36 \n",
      "58 36 9 \n",
      "58 36 9 \n",
      "58 36 6 \n",
      "58 36 4 \n",
      "58 36 9 \n",
      "58 36 9 \n",
      "58 36 6 \n",
      "58 36 4 \n",
      "58 9 9 \n",
      "58 9 6 \n",
      "58 9 4 \n",
      "58 9 6 \n",
      "58 9 4 \n",
      "58 6 4 \n",
      "52 49 44 \n",
      "52 49 36 \n",
      "52 49 36 \n",
      "52 49 9 \n",
      "52 49 9 \n",
      "52 49 6 \n",
      "52 49 4 \n",
      "52 44 36 \n",
      "52 44 36 \n",
      "52 44 9 \n",
      "52 44 9 \n",
      "52 44 6 \n",
      "52 44 4 \n",
      "52 36 36 \n",
      "52 36 9 \n",
      "52 36 9 \n",
      "52 36 6 \n",
      "52 36 4 \n",
      "52 36 9 \n",
      "52 36 9 \n",
      "52 36 6 \n",
      "52 36 4 \n",
      "52 9 9 \n",
      "52 9 6 \n",
      "52 9 4 \n",
      "52 9 6 \n",
      "52 9 4 \n",
      "52 6 4 \n",
      "49 44 36 \n",
      "49 44 36 \n",
      "49 44 9 \n",
      "49 44 9 \n",
      "49 44 6 \n",
      "49 44 4 \n",
      "49 36 36 \n",
      "49 36 9 \n",
      "49 36 9 \n",
      "49 36 6 \n",
      "49 36 4 \n",
      "49 36 9 \n",
      "49 36 9 \n",
      "49 36 6 \n",
      "49 36 4 \n",
      "49 9 9 \n",
      "49 9 6 \n",
      "49 9 4 \n",
      "49 9 6 \n",
      "49 9 4 \n",
      "49 6 4 \n",
      "44 36 36 \n",
      "44 36 9 \n",
      "44 36 9 \n",
      "44 36 6 \n",
      "44 36 4 \n",
      "44 36 9 \n",
      "44 36 9 \n",
      "44 36 6 \n",
      "44 36 4 \n",
      "44 9 9 \n",
      "44 9 6 \n",
      "44 9 4 \n",
      "44 9 6 \n",
      "44 9 4 \n",
      "44 6 4 \n",
      "36 36 9 \n",
      "36 36 9 \n",
      "36 36 6 \n",
      "36 36 4 \n",
      "36 9 9 \n",
      "36 9 6 \n",
      "36 9 4 \n",
      "36 9 6 \n",
      "36 9 4 \n",
      "36 6 4 \n",
      "36 9 9 \n",
      "36 9 6 \n",
      "36 9 4 \n",
      "36 9 6 \n",
      "36 9 4 \n",
      "36 6 4 \n",
      "9 9 6 \n",
      "9 9 4 \n",
      "9 6 4 \n",
      "9 6 4 \n"
     ]
    }
   ],
   "source": [
    "import itertools\n",
    "a = list(np.array(100 * np.random.random((20)), dtype = int))\n",
    "a.sort(key = lambda x : -x)\n",
    "for i, l in itertools.groupby(a, lambda x : x % 10):\n",
    "    print(i, end = \":\")\n",
    "    for item in l:\n",
    "        print(item, end = \" \")\n",
    "    print()\n",
    "\n",
    "for combs in itertools.combinations(a, 3):\n",
    "    for ele in combs:\n",
    "        print(ele, end = \" \")\n",
    "    print()"
   ]
  },
  {
   "cell_type": "code",
   "execution_count": 117,
   "metadata": {},
   "outputs": [
    {
     "name": "stdout",
     "output_type": "stream",
     "text": [
      "fuck\n",
      "you\n"
     ]
    }
   ],
   "source": [
    "def f(x):\n",
    "    try:\n",
    "        return float(x)\n",
    "    except ValueError:\n",
    "        return x\n",
    "    except TypeError:\n",
    "        print(\"fuck\")\n",
    "    finally:\n",
    "        print(\"you\")\n",
    "f((1,2))"
   ]
  },
  {
   "cell_type": "code",
   "execution_count": 119,
   "metadata": {},
   "outputs": [
    {
     "name": "stdout",
     "output_type": "stream",
     "text": [
      " deep_copy.png\t memory_diagram.png   'Python note.ipynb'   test\r\n",
      " image1.jpg\t NumpyTutorial.ipynb   shallow_copy.png     variable_list.png\r\n"
     ]
    }
   ],
   "source": [
    "!ls"
   ]
  },
  {
   "cell_type": "code",
   "execution_count": 134,
   "metadata": {},
   "outputs": [
    {
     "data": {
      "text/plain": [
       "[b'asf',\n",
       " b'asdf',\n",
       " b'asdffff',\n",
       " b'\\xe4\\xbd\\xa0\\xe5\\xa5\\xbd',\n",
       " b'\\xe4\\xb8\\xad\\xe5\\x9b\\xbd']"
      ]
     },
     "execution_count": 134,
     "metadata": {},
     "output_type": "execute_result"
    }
   ],
   "source": [
    "path = 'test'\n",
    "f = open(path, 'rb')\n",
    "lines = [line.rstrip() for line in f]\n",
    "lines"
   ]
  },
  {
   "cell_type": "code",
   "execution_count": 135,
   "metadata": {},
   "outputs": [
    {
     "data": {
      "text/plain": [
       "1"
      ]
     },
     "execution_count": 135,
     "metadata": {},
     "output_type": "execute_result"
    }
   ],
   "source": [
    "f.seek(1)"
   ]
  },
  {
   "cell_type": "code",
   "execution_count": 136,
   "metadata": {},
   "outputs": [
    {
     "data": {
      "text/plain": [
       "b'sf\\na'"
      ]
     },
     "execution_count": 136,
     "metadata": {},
     "output_type": "execute_result"
    }
   ],
   "source": [
    "f.read(4)"
   ]
  },
  {
   "cell_type": "code",
   "execution_count": 137,
   "metadata": {},
   "outputs": [],
   "source": [
    "f.close()"
   ]
  },
  {
   "cell_type": "code",
   "execution_count": 151,
   "metadata": {},
   "outputs": [
    {
     "data": {
      "text/plain": [
       "'中'"
      ]
     },
     "execution_count": 151,
     "metadata": {},
     "output_type": "execute_result"
    }
   ],
   "source": [
    "lines[4][:3].decode('utf-8')"
   ]
  },
  {
   "cell_type": "code",
   "execution_count": null,
   "metadata": {},
   "outputs": [],
   "source": []
  }
 ],
 "metadata": {
  "kernelspec": {
   "display_name": "Python 3",
   "language": "python",
   "name": "python3"
  },
  "language_info": {
   "codemirror_mode": {
    "name": "ipython",
    "version": 3
   },
   "file_extension": ".py",
   "mimetype": "text/x-python",
   "name": "python",
   "nbconvert_exporter": "python",
   "pygments_lexer": "ipython3",
   "version": "3.7.3"
  }
 },
 "nbformat": 4,
 "nbformat_minor": 2
}
